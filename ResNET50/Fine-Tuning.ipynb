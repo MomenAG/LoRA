{
 "cells": [
  {
   "cell_type": "code",
   "execution_count": 4,
   "id": "initial_id",
   "metadata": {
    "collapsed": true,
    "ExecuteTime": {
     "end_time": "2024-07-25T19:30:58.162916Z",
     "start_time": "2024-07-25T19:30:58.132422Z"
    }
   },
   "outputs": [],
   "source": [
    "#Imports\n",
    "import torch\n",
    "import torch.nn as nn\n",
    "import torch.optim as optim\n",
    "from torch.utils.tensorboard import SummaryWriter\n",
    "from torchvision.models import resnet50\n",
    "from data_preparation import get_dataloaders\n",
    "from sklearn.metrics import f1_score, confusion_matrix\n",
    "import matplotlib.pyplot as plt\n",
    "import seaborn as sns"
   ]
  },
  {
   "cell_type": "code",
   "outputs": [
    {
     "name": "stdout",
     "output_type": "stream",
     "text": [
      "Number of same pairs: 27000\n",
      "Number of different pairs: 300000\n",
      "Number of balanced different pairs: 27000\n"
     ]
    },
    {
     "name": "stderr",
     "output_type": "stream",
     "text": [
      "C:\\tools\\Anaconda3\\envs\\LoRA\\lib\\site-packages\\torchvision\\models\\_utils.py:208: UserWarning: The parameter 'pretrained' is deprecated since 0.13 and may be removed in the future, please use 'weights' instead.\n",
      "  warnings.warn(\n",
      "C:\\tools\\Anaconda3\\envs\\LoRA\\lib\\site-packages\\torchvision\\models\\_utils.py:223: UserWarning: Arguments other than a weight enum or `None` for 'weights' are deprecated since 0.13 and may be removed in the future. The current behavior is equivalent to passing `weights=ResNet50_Weights.IMAGENET1K_V1`. You can also use `weights=ResNet50_Weights.DEFAULT` to get the most up-to-date weights.\n",
      "  warnings.warn(msg)\n"
     ]
    }
   ],
   "source": [
    "# Set Device\n",
    "device = torch.device(\"cuda\" if torch.cuda.is_available() else \"cpu\")\n",
    "\n",
    "# Load Data\n",
    "batch_size = 64\n",
    "trainloader, testloader = get_dataloaders(batch_size)\n",
    "\n",
    "# Model\n",
    "class ResNet50Fingerprint(nn.Module):\n",
    "    def __init__(self):\n",
    "        super(ResNet50Fingerprint, self).__init__()\n",
    "        self.resnet = resnet50(pretrained=True)\n",
    "        self.resnet.fc = nn.Identity()  # Remove the final classification layer\n",
    "        self.fc = nn.Linear(2048, 1)  # Add a new classification layer for binary output\n",
    "\n",
    "    def forward(self, x1, x2):\n",
    "        f1 = self.resnet(x1)\n",
    "        f2 = self.resnet(x2)\n",
    "        # Compute absolute difference between features\n",
    "        diff = torch.abs(f1 - f2)\n",
    "        out = self.fc(diff)\n",
    "        return out\n",
    "\n",
    "model = ResNet50Fingerprint().to(device)\n",
    "\n",
    "# Loss and optimizer\n",
    "criterion = nn.BCEWithLogitsLoss()\n",
    "optimizer = optim.SGD(model.parameters(), lr=0.001, momentum=0.9)\n",
    "torch.cuda.empty_cache()"
   ],
   "metadata": {
    "collapsed": false,
    "ExecuteTime": {
     "end_time": "2024-07-25T19:31:04.514524Z",
     "start_time": "2024-07-25T19:30:58.164939Z"
    }
   },
   "id": "1775b276850632b7",
   "execution_count": 5
  },
  {
   "cell_type": "code",
   "outputs": [
    {
     "name": "stdout",
     "output_type": "stream",
     "text": [
      "Epoch 1/10, Accuracy : 78.02 %, Loss: 0.588, F1 Score: 0.780\n",
      "TP: 4198, FP: 1079, TN: 4228, FN: 1295\n",
      "Epoch 2/10, Accuracy : 84.18 %, Loss: 0.412, F1 Score: 0.855\n",
      "TP: 5031, FP: 1247, TN: 4060, FN: 462\n",
      "Epoch 3/10, Accuracy : 88.45 %, Loss: 0.275, F1 Score: 0.893\n",
      "TP: 5190, FP: 944, TN: 4363, FN: 303\n",
      "Epoch 4/10, Accuracy : 91.81 %, Loss: 0.173, F1 Score: 0.922\n",
      "TP: 5203, FP: 594, TN: 4713, FN: 290\n",
      "Epoch 5/10, Accuracy : 94.00 %, Loss: 0.103, F1 Score: 0.943\n",
      "TP: 5350, FP: 505, TN: 4802, FN: 143\n",
      "Epoch 6/10, Accuracy : 95.33 %, Loss: 0.064, F1 Score: 0.955\n",
      "TP: 5360, FP: 371, TN: 4936, FN: 133\n",
      "Epoch 7/10, Accuracy : 96.06 %, Loss: 0.038, F1 Score: 0.962\n",
      "TP: 5399, FP: 331, TN: 4976, FN: 94\n",
      "Epoch 8/10, Accuracy : 96.59 %, Loss: 0.025, F1 Score: 0.967\n",
      "TP: 5443, FP: 318, TN: 4989, FN: 50\n",
      "Epoch 9/10, Accuracy : 96.84 %, Loss: 0.015, F1 Score: 0.970\n",
      "TP: 5461, FP: 309, TN: 4998, FN: 32\n",
      "Epoch 10/10, Accuracy : 97.15 %, Loss: 0.010, F1 Score: 0.973\n",
      "TP: 5470, FP: 285, TN: 5022, FN: 23\n"
     ]
    },
    {
     "data": {
      "text/plain": "<Figure size 1000x700 with 2 Axes>",
      "image/png": "[encoded data removed]"
     },
     "metadata": {},
     "output_type": "display_data"
    },
    {
     "name": "stdout",
     "output_type": "stream",
     "text": [
      "Finished Training\n"
     ]
    }
   ],
   "source": [
    "# Initialize TensorBoard\n",
    "writer = SummaryWriter('runs/Fine-Tuning')\n",
    "\n",
    "# Training The Model\n",
    "epochs = 10\n",
    "for epoch in range(epochs):\n",
    "    model.train()  # Set the model to training mode\n",
    "    running_loss = 0.0\n",
    "\n",
    "    for i, data in enumerate(trainloader, 0):\n",
    "        (inputs1, inputs2), labels = data\n",
    "        inputs1, inputs2, labels = inputs1.to(device), inputs2.to(device), labels.to(device).unsqueeze(1)\n",
    "        optimizer.zero_grad()\n",
    "        outputs = model(inputs1, inputs2)\n",
    "        loss = criterion(outputs, labels)\n",
    "        loss.backward()\n",
    "        optimizer.step()\n",
    "        running_loss += loss.item()\n",
    "    epoch_loss = running_loss / len(trainloader)\n",
    "    \n",
    "    model.eval()  # Set the model to evaluation mode\n",
    "    correct = 0\n",
    "    total = 0\n",
    "    all_labels = []\n",
    "    all_predictions = []\n",
    "    with torch.no_grad():\n",
    "        for data in testloader:\n",
    "            (images1, images2), labels = data\n",
    "            images1, images2, labels = images1.to(device), images2.to(device), labels.to(device).unsqueeze(1)\n",
    "            outputs = model(images1, images2)\n",
    "            predictions = torch.sigmoid(outputs) > 0.5\n",
    "            total += labels.size(0)\n",
    "            correct += (predictions == labels).sum().item()\n",
    "            all_labels.extend(labels.cpu().numpy())\n",
    "            all_predictions.extend(predictions.cpu().numpy())\n",
    "\n",
    "    epoch_accuracy = 100 * correct / total\n",
    "    epoch_f1 = f1_score(all_labels, all_predictions)\n",
    "    tn, fp, fn, tp = confusion_matrix(all_labels, all_predictions).ravel()\n",
    "\n",
    "    # Log loss, accuracy, and F1 score for the epoch to TensorBoard\n",
    "    writer.add_scalar('Accuracy/test', epoch_accuracy, epoch)\n",
    "    writer.add_scalar('Loss/train', epoch_loss, epoch)\n",
    "    writer.add_scalar('F1_Score/test', epoch_f1, epoch)\n",
    "    \n",
    "    print(f'Epoch {epoch+1}/{epochs}, Accuracy : {epoch_accuracy:.2f} %, Loss: {epoch_loss:.3f}, F1 Score: {epoch_f1:.3f}')\n",
    "    print(f'TP: {tp}, FP: {fp}, TN: {tn}, FN: {fn}')\n",
    "\n",
    "# Visualize confusion matrix\n",
    "conf_matrix = confusion_matrix(all_labels, all_predictions)\n",
    "plt.figure(figsize=(10, 7))\n",
    "sns.heatmap(conf_matrix, annot=True, fmt='d', cmap='Blues')\n",
    "plt.xlabel('Predicted')\n",
    "plt.ylabel('True')\n",
    "plt.title('Confusion Matrix')\n",
    "plt.show()\n",
    "\n",
    "print('Finished Training')\n",
    "writer.close()"
   ],
   "metadata": {
    "collapsed": false,
    "ExecuteTime": {
     "end_time": "2024-07-26T04:01:42.367669Z",
     "start_time": "2024-07-25T19:31:04.515523Z"
    }
   },
   "id": "e36b9075934c7c12",
   "execution_count": 6
  }
 ],
 "metadata": {
  "kernelspec": {
   "display_name": "Python 3",
   "language": "python",
   "name": "python3"
  },
  "language_info": {
   "codemirror_mode": {
    "name": "ipython",
    "version": 2
   },
   "file_extension": ".py",
   "mimetype": "text/x-python",
   "name": "python",
   "nbconvert_exporter": "python",
   "pygments_lexer": "ipython2",
   "version": "2.7.6"
  }
 },
 "nbformat": 4,
 "nbformat_minor": 5
}
