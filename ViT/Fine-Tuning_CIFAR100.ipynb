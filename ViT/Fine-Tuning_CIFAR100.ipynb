{
 "cells": [
  {
   "cell_type": "code",
   "execution_count": 1,
   "id": "initial_id",
   "metadata": {
    "collapsed": true,
    "ExecuteTime": {
     "end_time": "2024-04-16T03:09:18.242097Z",
     "start_time": "2024-04-16T03:09:14.431558Z"
    }
   },
   "outputs": [],
   "source": [
    " #imports\n",
    "import torch\n",
    "import torch.nn as nn # All Neural Network models\n",
    "import torch.optim as optim # All Optimization\n",
    "from torch.utils.data import DataLoader # Easier Dataset Managment \n",
    "from torch.utils.tensorboard import SummaryWriter\n",
    "import torchvision \n",
    "import torchvision.transforms as transforms # Transformations we can do\n",
    "import torchvision.datasets as datasets # to import the needed dataset\n",
    "from transformers import ViTForImageClassification, ViTImageProcessor\n",
    "import os"
   ]
  },
  {
   "cell_type": "code",
   "outputs": [
    {
     "name": "stdout",
     "output_type": "stream",
     "text": [
      "Files already downloaded and verified\n",
      "Files already downloaded and verified\n"
     ]
    }
   ],
   "source": [
    "# Transformation \n",
    "# Define the standard ImageNet transforms\n",
    "transform = transforms.Compose([\n",
    "    transforms.Resize(256),              # Resize the image to 256x256 pixels\n",
    "    transforms.CenterCrop(224),          # Crop the image to 224x224 pixels at the center\n",
    "    transforms.ToTensor(),               # Convert the image to a PyTorch tensor\n",
    "    transforms.Normalize(mean=[0.485, 0.456, 0.406], # Normalize pixel values to match the ImageNet distribution\n",
    "                         std=[0.229, 0.224, 0.225]),\n",
    "])\n",
    "\n",
    "# Load Training & Test DataSets\n",
    "trainset = datasets.CIFAR100(root='./data', train=True, download=True, transform=transform)\n",
    "testset = datasets.CIFAR100(root='./data', train=False, download=True, transform=transform)"
   ],
   "metadata": {
    "collapsed": false,
    "ExecuteTime": {
     "end_time": "2024-04-16T03:09:19.316908Z",
     "start_time": "2024-04-16T03:09:18.243159Z"
    }
   },
   "id": "16b30e44ce61a9f8",
   "execution_count": 2
  },
  {
   "cell_type": "code",
   "outputs": [
    {
     "name": "stderr",
     "output_type": "stream",
     "text": [
      "Some weights of ViTForImageClassification were not initialized from the model checkpoint at google/vit-base-patch16-224-in21k and are newly initialized: ['classifier.bias', 'classifier.weight']\n",
      "You should probably TRAIN this model on a down-stream task to be able to use it for predictions and inference.\n"
     ]
    }
   ],
   "source": [
    "# Set Device\n",
    "os.environ[\"HF_HUB_DISABLE_SYMLINKS_WARNING\"] = \"1\"\n",
    "device = torch.device(\"cuda\")\n",
    "\n",
    "#HyperParameters \n",
    "batch_size = 64\n",
    "epochs = 20\n",
    "learning_rate = 0.001\n",
    "\n",
    "#Data Loader\n",
    "trainloader = DataLoader(trainset, batch_size=batch_size, shuffle=True, num_workers=2)\n",
    "testloader = DataLoader(testset, batch_size=batch_size, shuffle=False, num_workers=2)\n",
    "\n",
    "# Load a pre-trained model and feature extractor\n",
    "model_name = 'google/vit-base-patch16-224-in21k'  # Choose a suitable model\n",
    "feature_extractor = ViTImageProcessor.from_pretrained(model_name)\n",
    "model = ViTForImageClassification.from_pretrained(model_name)\n",
    "# Adjust the model for CIFAR-100\n",
    "model.classifier = torch.nn.Linear(model.classifier.in_features, 100)\n",
    "_ = model.to(device)\n",
    "\n",
    "# Define your loss function and optimizer\n",
    "criterion = nn.CrossEntropyLoss()\n",
    "optimizer = optim.SGD(model.parameters(), lr=learning_rate, momentum=0.9)\n",
    "torch.cuda.empty_cache()\n",
    "\n",
    "# Initialize TensorBoard\n",
    "# writer = SummaryWriter('Fine-Tuning_CIFAR100')"
   ],
   "metadata": {
    "collapsed": false,
    "ExecuteTime": {
     "end_time": "2024-04-16T03:09:20.472686Z",
     "start_time": "2024-04-16T03:09:19.317908Z"
    }
   },
   "id": "3100e7b6c1d98bd",
   "execution_count": 3
  },
  {
   "cell_type": "code",
   "outputs": [
    {
     "name": "stdout",
     "output_type": "stream",
     "text": [
      "Accuracy : 78.09 %  loss: 33.121\n",
      "Accuracy : 86.32 %  loss: 20.247\n",
      "Accuracy : 89.27 %  loss: 6.789\n",
      "Accuracy : 90.39 %  loss: 3.346\n",
      "Accuracy : 90.86 %  loss: 2.345\n",
      "Accuracy : 91.09 %  loss: 1.800\n",
      "Accuracy : 90.69 %  loss: 1.444\n",
      "Accuracy : 90.89 %  loss: 1.192\n",
      "Accuracy : 91.01 %  loss: 0.981\n",
      "Accuracy : 91.04 %  loss: 0.834\n",
      "Accuracy : 91.5 %  loss: 0.780\n",
      "Accuracy : 91.1 %  loss: 0.643\n",
      "Accuracy : 91.3 %  loss: 0.530\n",
      "Accuracy : 91.2 %  loss: 0.435\n",
      "Accuracy : 91.29 %  loss: 0.374\n",
      "Accuracy : 91.08 %  loss: 0.320\n",
      "Accuracy : 91.08 %  loss: 0.273\n",
      "Accuracy : 91.09 %  loss: 0.244\n",
      "Accuracy : 91.03 %  loss: 0.211\n",
      "Accuracy : 90.99 %  loss: 0.189\n",
      "Finished Training\n"
     ]
    }
   ],
   "source": [
    "# Initialize TensorBoard\n",
    "writer = SummaryWriter('runs/Fine-Tuning')\n",
    "\n",
    "# Training The Model\n",
    "for epoch in range(epochs):\n",
    "    model.train()  # Set the model to training mode\n",
    "    running_loss = 0.0\n",
    "  \n",
    "    for i, data in enumerate(trainloader, 0):\n",
    "        inputs, labels = data[0].to(device), data[1].to(device)\n",
    "        optimizer.zero_grad()\n",
    "        outputs = model(inputs).logits\n",
    "        loss = criterion(\n",
    "            outputs, labels\n",
    "        )\n",
    "        loss.backward()\n",
    "        optimizer.step()\n",
    "        running_loss += loss.item()\n",
    "        # if i % (batch_size * 2) == ((batch_size * 2) - 1):\n",
    "        #     print('[%d, %5d] loss: %.3f' % (epoch + 1, i + 1, running_loss / 100))\n",
    "        #     running_loss = 0.0\n",
    "    epoch_loss = running_loss / len(trainloader)\n",
    "    \n",
    "    model.eval()  # Set the model to evaluation mode\n",
    "    correct = 0\n",
    "    total = 0\n",
    "    with torch.no_grad():\n",
    "        for data in testloader:\n",
    "            images, labels = data[0].to(device), data[1].to(device)\n",
    "            outputs = model(images)\n",
    "            _, predicted = torch.max(\n",
    "                outputs.logits, 1\n",
    "            )\n",
    "            total += labels.size(0)\n",
    "            correct += (predicted == labels).sum().item()\n",
    "        epoch_accuracy = 100 * correct / total\n",
    "        # Log loss and accuracy for the epoch to TensorBoard\n",
    "        writer.add_scalar('Accuracy/test', epoch_accuracy, epoch)\n",
    "        writer.add_scalar('Loss/train', epoch_loss, epoch)\n",
    "        \n",
    "        print(f'Accuracy : {epoch_accuracy} % ' + ' loss: %.3f' % (running_loss / 100))\n",
    "    # print('loss: %.3f' % (running_loss / 100))\n",
    "print('Finished Training')\n",
    "writer.close()"
   ],
   "metadata": {
    "collapsed": false,
    "ExecuteTime": {
     "end_time": "2024-04-18T03:11:58.047540Z",
     "start_time": "2024-04-16T03:09:20.473878Z"
    }
   },
   "id": "586c944dfd3773e",
   "execution_count": 4
  }
 ],
 "metadata": {
  "kernelspec": {
   "display_name": "Python 3",
   "language": "python",
   "name": "python3"
  },
  "language_info": {
   "codemirror_mode": {
    "name": "ipython",
    "version": 2
   },
   "file_extension": ".py",
   "mimetype": "text/x-python",
   "name": "python",
   "nbconvert_exporter": "python",
   "pygments_lexer": "ipython2",
   "version": "2.7.6"
  }
 },
 "nbformat": 4,
 "nbformat_minor": 5
}
