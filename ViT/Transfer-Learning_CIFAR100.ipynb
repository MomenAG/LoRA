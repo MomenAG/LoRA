{
 "cells": [
  {
   "cell_type": "code",
   "outputs": [],
   "source": [
    "#imports\n",
    "import torch\n",
    "import torch.nn as nn # All Neural Network models\n",
    "import torch.optim as optim # All Optimization\n",
    "from torch.utils.data import DataLoader # Easier Dataset Managment \n",
    "from torch.utils.tensorboard import SummaryWriter\n",
    "import torchvision \n",
    "import torchvision.transforms as transforms # Transformations we can do\n",
    "import torchvision.datasets as datasets # to import the needed dataset\n",
    "from transformers import ViTForImageClassification, ViTImageProcessor\n",
    "import os"
   ],
   "metadata": {
    "collapsed": false,
    "ExecuteTime": {
     "end_time": "2024-04-15T12:54:06.580705Z",
     "start_time": "2024-04-15T12:54:06.563749Z"
    }
   },
   "id": "1ab8642d418658bd",
   "execution_count": 6
  },
  {
   "cell_type": "code",
   "outputs": [
    {
     "name": "stdout",
     "output_type": "stream",
     "text": [
      "Files already downloaded and verified\n",
      "Files already downloaded and verified\n"
     ]
    }
   ],
   "source": [
    "# Transformation \n",
    "# Define the standard ImageNet transforms\n",
    "transform = transforms.Compose([\n",
    "    transforms.Resize(256),              # Resize the image to 256x256 pixels\n",
    "    transforms.CenterCrop(224),          # Crop the image to 224x224 pixels at the center\n",
    "    transforms.ToTensor(),               # Convert the image to a PyTorch tensor\n",
    "    transforms.Normalize(mean=[0.485, 0.456, 0.406], # Normalize pixel values to match the ImageNet distribution\n",
    "                         std=[0.229, 0.224, 0.225]),\n",
    "])\n",
    "\n",
    "# Load Training & Test DataSets\n",
    "trainset = datasets.CIFAR100(root='./data', train=True, download=True, transform=transform)\n",
    "testset = datasets.CIFAR100(root='./data', train=False, download=True, transform=transform)"
   ],
   "metadata": {
    "collapsed": false,
    "ExecuteTime": {
     "end_time": "2024-04-15T12:54:07.979167Z",
     "start_time": "2024-04-15T12:54:06.588682Z"
    }
   },
   "id": "ef88dffae095cca1",
   "execution_count": 7
  },
  {
   "cell_type": "code",
   "outputs": [
    {
     "name": "stderr",
     "output_type": "stream",
     "text": [
      "Some weights of ViTForImageClassification were not initialized from the model checkpoint at google/vit-base-patch16-224-in21k and are newly initialized: ['classifier.bias', 'classifier.weight']\n",
      "You should probably TRAIN this model on a down-stream task to be able to use it for predictions and inference.\n"
     ]
    }
   ],
   "source": [
    "# Set Device\n",
    "os.environ[\"HF_HUB_DISABLE_SYMLINKS_WARNING\"] = \"1\"\n",
    "device = torch.device(\"cuda\")\n",
    "\n",
    "#HyperParameters \n",
    "batch_size = 64\n",
    "epochs = 20\n",
    "learning_rate = 0.001\n",
    "\n",
    "#Data Loader\n",
    "trainloader = DataLoader(trainset, batch_size=batch_size, shuffle=True, num_workers=2)\n",
    "testloader = DataLoader(testset, batch_size=batch_size, shuffle=False, num_workers=2)\n",
    "\n",
    "# Load a pre-trained model and feature extractor\n",
    "model_name = 'google/vit-base-patch16-224-in21k'  # Choose a suitable model\n",
    "    \n",
    "feature_extractor = ViTImageProcessor.from_pretrained(model_name)\n",
    "model = ViTForImageClassification.from_pretrained(model_name)\n",
    "\n",
    "# Freeze all the parameters in the model\n",
    "for param in model.parameters():\n",
    "    param.requires_grad = False\n",
    "    \n",
    "# Adjust the model for CIFAR-100\n",
    "model.classifier = torch.nn.Linear(model.classifier.in_features, 100)\n",
    "_ = model.to(device)\n",
    "\n",
    "# Define your loss function and optimizer\n",
    "criterion = nn.CrossEntropyLoss()\n",
    "optimizer = optim.SGD(model.parameters(), lr=learning_rate, momentum=0.9)\n",
    "torch.cuda.empty_cache()"
   ],
   "metadata": {
    "collapsed": false,
    "ExecuteTime": {
     "end_time": "2024-04-15T12:54:09.934797Z",
     "start_time": "2024-04-15T12:54:07.981161Z"
    }
   },
   "id": "addc7d8ac5deeeb3",
   "execution_count": 8
  },
  {
   "cell_type": "code",
   "outputs": [
    {
     "name": "stdout",
     "output_type": "stream",
     "text": [
      "Accuracy : 62.67 %  loss: 31.846\n",
      "Accuracy : 65.5 %  loss: 29.146\n",
      "Accuracy : 66.62 %  loss: 26.609\n",
      "Accuracy : 67.19 %  loss: 24.281\n",
      "Accuracy : 67.81 %  loss: 22.185\n",
      "Accuracy : 68.53 %  loss: 20.340\n",
      "Accuracy : 69.16 %  loss: 18.749\n",
      "Accuracy : 69.64 %  loss: 17.387\n",
      "Accuracy : 69.97 %  loss: 16.234\n",
      "Accuracy : 70.55 %  loss: 15.262\n",
      "Accuracy : 70.8 %  loss: 14.438\n",
      "Accuracy : 71.15 %  loss: 13.737\n",
      "Accuracy : 71.23 %  loss: 13.139\n",
      "Accuracy : 71.38 %  loss: 12.628\n",
      "Accuracy : 71.47 %  loss: 12.186\n",
      "Accuracy : 71.61 %  loss: 11.803\n",
      "Accuracy : 71.79 %  loss: 11.463\n",
      "Accuracy : 71.9 %  loss: 11.166\n",
      "Accuracy : 72.01 %  loss: 10.902\n",
      "Accuracy : 72.04 %  loss: 10.664\n"
     ]
    }
   ],
   "source": [
    "# Initialize TensorBoard\n",
    "writer = SummaryWriter('runs/Transfer-Learning')\n",
    "\n",
    "# Training The Model\n",
    "for epoch in range(epochs):\n",
    "    model.train()  # Set the model to training mode\n",
    "    running_loss = 0.0\n",
    "  \n",
    "    for i, data in enumerate(trainloader, 0):\n",
    "        inputs, labels = data[0].to(device), data[1].to(device)\n",
    "        optimizer.zero_grad()\n",
    "        outputs = model(inputs).logits\n",
    "        loss = criterion(\n",
    "            outputs, labels\n",
    "        )\n",
    "        loss.backward()\n",
    "        optimizer.step()\n",
    "        running_loss += loss.item()\n",
    "        # if i % (batch_size * 2) == ((batch_size * 2) - 1):\n",
    "        #     print('[%d, %5d] loss: %.3f' % (epoch + 1, i + 1, running_loss / 100))\n",
    "        #     running_loss = 0.0\n",
    "    epoch_loss = running_loss / len(trainloader)\n",
    "    \n",
    "    model.eval()  # Set the model to evaluation mode\n",
    "    correct = 0\n",
    "    total = 0\n",
    "    with torch.no_grad():\n",
    "        for data in testloader:\n",
    "            images, labels = data[0].to(device), data[1].to(device)\n",
    "            outputs = model(images)\n",
    "            _, predicted = torch.max(\n",
    "                outputs.logits, 1\n",
    "            )\n",
    "            total += labels.size(0)\n",
    "            correct += (predicted == labels).sum().item()\n",
    "        epoch_accuracy = 100 * correct / total\n",
    "        # Log loss and accuracy for the epoch to TensorBoard\n",
    "        writer.add_scalar('Accuracy/test', epoch_accuracy, epoch)\n",
    "        writer.add_scalar('Loss/train', epoch_loss, epoch)\n",
    "        \n",
    "        print(f'Accuracy : {epoch_accuracy} % ' + ' loss: %.3f' % (running_loss / 100))\n",
    "    # print('loss: %.3f' % (running_loss / 100))\n",
    "print('Finished Training')\n",
    "writer.close()"
   ],
   "metadata": {
    "collapsed": false,
    "ExecuteTime": {
     "end_time": "2024-04-15T14:14:29.764626Z",
     "start_time": "2024-04-15T13:08:26.607784Z"
    }
   },
   "id": "93d8ac6bcdfa704f",
   "execution_count": 11
  }
 ],
 "metadata": {
  "kernelspec": {
   "display_name": "Python 3",
   "language": "python",
   "name": "python3"
  },
  "language_info": {
   "codemirror_mode": {
    "name": "ipython",
    "version": 2
   },
   "file_extension": ".py",
   "mimetype": "text/x-python",
   "name": "python",
   "nbconvert_exporter": "python",
   "pygments_lexer": "ipython2",
   "version": "2.7.6"
  }
 },
 "nbformat": 4,
 "nbformat_minor": 5
}
