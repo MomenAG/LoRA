{
 "cells": [
  {
   "cell_type": "code",
   "outputs": [],
   "source": [
    "#imports\n",
    "import torch\n",
    "import torch.nn as nn # All Neural Network models\n",
    "import torch.optim as optim # All Optimization\n",
    "from torch.utils.data import DataLoader # Easier Dataset Managment \n",
    "from torch.utils.tensorboard import SummaryWriter\n",
    "import torchvision \n",
    "import torchvision.transforms as transforms # Transformations we can do\n",
    "import torchvision.datasets as datasets # to import the needed dataset\n",
    "from transformers import ViTForImageClassification, ViTImageProcessor\n",
    "import os\n",
    "from peft import LoraConfig, get_peft_model"
   ],
   "metadata": {
    "collapsed": false,
    "ExecuteTime": {
     "end_time": "2024-04-15T14:21:51.346795Z",
     "start_time": "2024-04-15T14:21:47.458153Z"
    }
   },
   "id": "7576978d41e23e8c",
   "execution_count": 1
  },
  {
   "cell_type": "code",
   "outputs": [
    {
     "name": "stdout",
     "output_type": "stream",
     "text": [
      "Files already downloaded and verified\n",
      "Files already downloaded and verified\n"
     ]
    }
   ],
   "source": [
    "# Transformation \n",
    "# Define the standard ImageNet transforms\n",
    "transform = transforms.Compose([\n",
    "    transforms.Resize(256),              # Resize the image to 256x256 pixels\n",
    "    transforms.CenterCrop(224),          # Crop the image to 224x224 pixels at the center\n",
    "    transforms.ToTensor(),               # Convert the image to a PyTorch tensor\n",
    "    transforms.Normalize(mean=[0.485, 0.456, 0.406], # Normalize pixel values to match the ImageNet distribution\n",
    "                         std=[0.229, 0.224, 0.225]),\n",
    "])\n",
    "\n",
    "# Load Training & Test DataSets\n",
    "trainset = datasets.CIFAR100(root='./data', train=True, download=True, transform=transform)\n",
    "testset = datasets.CIFAR100(root='./data', train=False, download=True, transform=transform)"
   ],
   "metadata": {
    "collapsed": false,
    "ExecuteTime": {
     "end_time": "2024-04-15T14:21:52.467631Z",
     "start_time": "2024-04-15T14:21:51.347864Z"
    }
   },
   "id": "495b78645012533b",
   "execution_count": 2
  },
  {
   "cell_type": "code",
   "outputs": [
    {
     "name": "stderr",
     "output_type": "stream",
     "text": [
      "Some weights of ViTForImageClassification were not initialized from the model checkpoint at google/vit-base-patch16-224-in21k and are newly initialized: ['classifier.bias', 'classifier.weight']\n",
      "You should probably TRAIN this model on a down-stream task to be able to use it for predictions and inference.\n"
     ]
    },
    {
     "name": "stdout",
     "output_type": "stream",
     "text": [
      "trainable params: 666,724 || all params: 86,542,280 || trainable%: 0.7704026286342351\n"
     ]
    }
   ],
   "source": [
    "# Set Device\n",
    "os.environ[\"HF_HUB_DISABLE_SYMLINKS_WARNING\"] = \"1\"\n",
    "device = torch.device(\"cuda\")\n",
    "\n",
    "#HyperParameters \n",
    "batch_size = 64\n",
    "epochs = 20\n",
    "learning_rate = 0.001\n",
    "\n",
    "#Data Loader\n",
    "trainloader = DataLoader(trainset, batch_size=batch_size, shuffle=True, num_workers=2)\n",
    "testloader = DataLoader(testset, batch_size=batch_size, shuffle=False, num_workers=2)\n",
    "\n",
    "# Load a pre-trained model and feature extractor\n",
    "model_name = 'google/vit-base-patch16-224-in21k'  # Choose a suitable model\n",
    "    \n",
    "feature_extractor = ViTImageProcessor.from_pretrained(model_name)\n",
    "model = ViTForImageClassification.from_pretrained(model_name)\n",
    "\n",
    "# Freeze all the parameters in the model\n",
    "for param in model.parameters():\n",
    "    param.requires_grad = False\n",
    "    \n",
    "# Adjust the model for CIFAR-100\n",
    "model.classifier = torch.nn.Linear(model.classifier.in_features, 100)\n",
    "\n",
    "\n",
    "# Apply LoRA using the PEFT library\n",
    "config = LoraConfig(\n",
    "    r=16,\n",
    "    lora_alpha=16,\n",
    "    target_modules=[\"query\", \"value\"],\n",
    "    lora_dropout=0.1,\n",
    "    bias=\"none\",\n",
    "    modules_to_save=[\"classifier\"],\n",
    ")\n",
    "lora_model = get_peft_model(model, config)\n",
    "lora_model.print_trainable_parameters()\n",
    "_ = lora_model.to(device)\n",
    "\n",
    "# Define your loss function and optimizer\n",
    "criterion = nn.CrossEntropyLoss()\n",
    "optimizer = optim.SGD(model.parameters(), lr=learning_rate, momentum=0.9)\n",
    "torch.cuda.empty_cache()\n",
    "\n",
    "# Initialize TensorBoard\n",
    "# writer = SummaryWriter('Fine-Tuning_CIFAR100')"
   ],
   "metadata": {
    "collapsed": false,
    "ExecuteTime": {
     "end_time": "2024-04-15T14:21:53.603003Z",
     "start_time": "2024-04-15T14:21:52.468684Z"
    }
   },
   "id": "f89ed9dda2f70480",
   "execution_count": 3
  },
  {
   "cell_type": "code",
   "outputs": [
    {
     "name": "stdout",
     "output_type": "stream",
     "text": [
      "Accuracy : 52.64 %  loss: 34.620\n",
      "Accuracy : 63.36 %  loss: 31.780\n",
      "Accuracy : 66.73 %  loss: 29.015\n",
      "Accuracy : 70.6 %  loss: 26.181\n",
      "Accuracy : 75.61 %  loss: 22.876\n",
      "Accuracy : 78.39 %  loss: 19.056\n",
      "Accuracy : 81.16 %  loss: 14.855\n",
      "Accuracy : 83.49 %  loss: 11.471\n",
      "Accuracy : 84.97 %  loss: 9.065\n",
      "Accuracy : 85.87 %  loss: 7.464\n",
      "Accuracy : 86.41 %  loss: 6.391\n",
      "Accuracy : 86.78 %  loss: 5.649\n",
      "Accuracy : 87.24 %  loss: 5.110\n",
      "Accuracy : 87.45 %  loss: 4.710\n",
      "Accuracy : 87.79 %  loss: 4.392\n",
      "Accuracy : 88.12 %  loss: 4.137\n",
      "Accuracy : 88.13 %  loss: 3.928\n",
      "Accuracy : 88.34 %  loss: 3.756\n",
      "Accuracy : 88.52 %  loss: 3.607\n",
      "Accuracy : 88.68 %  loss: 3.477\n",
      "Finished Training\n"
     ]
    }
   ],
   "source": [
    "# Initialize TensorBoard\n",
    "writer = SummaryWriter('runs/LoRA')\n",
    "\n",
    "# Training The Model\n",
    "for epoch in range(epochs):\n",
    "    model.train()  # Set the model to training mode\n",
    "    running_loss = 0.0\n",
    "  \n",
    "    for i, data in enumerate(trainloader, 0):\n",
    "        inputs, labels = data[0].to(device), data[1].to(device)\n",
    "        optimizer.zero_grad()\n",
    "        outputs = model(inputs).logits\n",
    "        loss = criterion(\n",
    "            outputs, labels\n",
    "        )\n",
    "        loss.backward()\n",
    "        optimizer.step()\n",
    "        running_loss += loss.item()\n",
    "        # if i % (batch_size * 2) == ((batch_size * 2) - 1):\n",
    "        #     print('[%d, %5d] loss: %.3f' % (epoch + 1, i + 1, running_loss / 100))\n",
    "        #     running_loss = 0.0\n",
    "    epoch_loss = running_loss / len(trainloader)\n",
    "    \n",
    "    model.eval()  # Set the model to evaluation mode\n",
    "    correct = 0\n",
    "    total = 0\n",
    "    with torch.no_grad():\n",
    "        for data in testloader:\n",
    "            images, labels = data[0].to(device), data[1].to(device)\n",
    "            outputs = model(images)\n",
    "            _, predicted = torch.max(\n",
    "                outputs.logits, 1\n",
    "            )\n",
    "            total += labels.size(0)\n",
    "            correct += (predicted == labels).sum().item()\n",
    "        epoch_accuracy = 100 * correct / total\n",
    "        # Log loss and accuracy for the epoch to TensorBoard\n",
    "        writer.add_scalar('Accuracy/test', epoch_accuracy, epoch)\n",
    "        writer.add_scalar('Loss/train', epoch_loss, epoch)\n",
    "        \n",
    "        print(f'Accuracy : {epoch_accuracy} % ' + ' loss: %.3f' % (running_loss / 100))\n",
    "    # print('loss: %.3f' % (running_loss / 100))\n",
    "print('Finished Training')\n",
    "writer.close()"
   ],
   "metadata": {
    "collapsed": false,
    "ExecuteTime": {
     "end_time": "2024-04-16T00:16:13.352721Z",
     "start_time": "2024-04-15T14:21:53.604085Z"
    }
   },
   "id": "a06c5d22eeb4d477",
   "execution_count": 4
  }
 ],
 "metadata": {
  "kernelspec": {
   "display_name": "Python 3",
   "language": "python",
   "name": "python3"
  },
  "language_info": {
   "codemirror_mode": {
    "name": "ipython",
    "version": 2
   },
   "file_extension": ".py",
   "mimetype": "text/x-python",
   "name": "python",
   "nbconvert_exporter": "python",
   "pygments_lexer": "ipython2",
   "version": "2.7.6"
  }
 },
 "nbformat": 4,
 "nbformat_minor": 5
}
